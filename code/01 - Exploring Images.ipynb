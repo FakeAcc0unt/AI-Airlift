{
 "cells": [
  {
   "cell_type": "markdown",
   "metadata": {},
   "source": [
    "# Exploring Images\n",
    "\n",
    "Python includes multiple libraries that you can use to work with images. In this notebook, you'll use a few of them to explore some properties of images and technuques for working with them.\n",
    "\n",
    "# Image Files\n",
    "Let's start by creating an image of a simple geometric shape, and saving it as a JPG file. The **PIL** library in Python includes functions for working with images, so we'll use that to create and save the image.\n",
    "\n",
    "Run the following code cell to create the image file:"
   ]
  },
  {
   "cell_type": "code",
   "execution_count": null,
   "metadata": {},
   "outputs": [],
   "source": [
    "# Function to create a random image (of a square, circle, or triangle)\n",
    "def create_image (size, shape):\n",
    "    from random import randint\n",
    "    import numpy as np\n",
    "    from PIL import Image, ImageDraw\n",
    "    \n",
    "    # Set random position and color\n",
    "    xy1 = randint(10,40)\n",
    "    xy2 = randint(60,100)\n",
    "    col = (randint(0,200), randint(0,200), randint(0,200))\n",
    "\n",
    "    # Create a new blank image\n",
    "    img = Image.new(\"RGB\", size, (255, 255, 255))\n",
    "    \n",
    "    # Create a canvas so we can draw on the image\n",
    "    draw = ImageDraw.Draw(img)\n",
    "    \n",
    "    # Draw the specified shape on the image\n",
    "    if shape == \"circle\":\n",
    "        draw.ellipse([(xy1,xy1), (xy2,xy2)], fill=col)\n",
    "    elif shape == \"square\":\n",
    "        draw.rectangle([(xy1,xy1), (xy2,xy2)], fill=col)\n",
    "    else: # triangle\n",
    "        draw.polygon([(xy1,xy1), (xy2,xy2), (xy2,xy1)], fill=col)\n",
    "    del draw\n",
    "    \n",
    "    # Return the shape image\n",
    "    return img\n",
    "\n",
    "# Call the function to create a new image (a 128x128px image of a circle)\n",
    "new_img = create_image((128, 128), \"circle\")\n",
    "\n",
    "# Save the image as a file\n",
    "img_file_name = \"new_img.jpg\"\n",
    "new_img.save(img_file_name)\n",
    "print(\"Saved image as\", img_file_name)\n"
   ]
  },
  {
   "cell_type": "markdown",
   "metadata": {},
   "source": [
    "After you've run the cell above, switch back to the browser tab containing the folder where this notebook is saved and verify that a new file named **new_img.jpg** has been created. You can click this file to view it.\n",
    "\n",
    "When you are done, come back to this notebook.\n",
    "\n",
    "To load a saved image, the PIL library provides an **Image** class with an **open** method, as shown here:"
   ]
  },
  {
   "cell_type": "code",
   "execution_count": null,
   "metadata": {},
   "outputs": [],
   "source": [
    "from PIL import Image\n",
    "\n",
    "# Load the image\n",
    "loaded_img = Image.open(img_file_name)\n",
    "\n",
    "# Check the filename and format\n",
    "print(loaded_img.filename, \"is a\", loaded_img.format)"
   ]
  },
  {
   "cell_type": "markdown",
   "metadata": {},
   "source": [
    "## Plotting an Image\n",
    "Now that you have an image, you can use the **Matplotlib** library to plot it as a visualization. "
   ]
  },
  {
   "cell_type": "code",
   "execution_count": null,
   "metadata": {},
   "outputs": [],
   "source": [
    "from matplotlib import pyplot as plt\n",
    "\n",
    "# The following 'magic' command must be run before plotting in order to display images inline in a Jupyter notebook\n",
    "%matplotlib inline\n",
    "\n",
    "# Create a new figure\n",
    "fig = plt.figure()\n",
    "\n",
    "# Plot the image\n",
    "imgplot = plt.imshow(loaded_img)"
   ]
  },
  {
   "cell_type": "markdown",
   "metadata": {},
   "source": [
    "## Image Data Types\n",
    "We've used the **PIL** library to create, load, and visualize our image.\n",
    "\n",
    "Let's look at the data type of our image variable."
   ]
  },
  {
   "cell_type": "code",
   "execution_count": null,
   "metadata": {},
   "outputs": [],
   "source": [
    "type(loaded_img)"
   ]
  },
  {
   "cell_type": "markdown",
   "metadata": {},
   "source": [
    "The image is a PIL-specific type. However, we may want to work with our image using libraries other than PIL. The secret to this is to understand that images are actually just arrays of numeric values that represent pixel intensities, and the Python **NumPy** library provides a useful neutral format for image data.\n",
    "\n",
    "For example, you can easily convert a PIL image to a NumPy multidimensional array like this:"
   ]
  },
  {
   "cell_type": "code",
   "execution_count": null,
   "metadata": {},
   "outputs": [],
   "source": [
    "import numpy as np\n",
    "\n",
    "# Convert the PIL image to a NumPy array\n",
    "img_array = np.array(loaded_img)\n",
    "\n",
    "type(img_array)"
   ]
  },
  {
   "cell_type": "markdown",
   "metadata": {},
   "source": [
    "You can also convert a NumPy array containing image data to a generic PIL image type like this:"
   ]
  },
  {
   "cell_type": "code",
   "execution_count": null,
   "metadata": {},
   "outputs": [],
   "source": [
    "# Convert to PIL format from array\n",
    "pil_img = Image.fromarray(img_array)\n",
    "\n",
    "type(pil_img)"
   ]
  },
  {
   "cell_type": "markdown",
   "metadata": {},
   "source": [
    "Let's explore the idea that an image is a multidimensional array of pixel values in a little more detail.\n",
    "\n",
    "Run the following cell to veiw the *shape* of the image array:"
   ]
  },
  {
   "cell_type": "code",
   "execution_count": null,
   "metadata": {},
   "outputs": [],
   "source": [
    "img_array.shape"
   ]
  },
  {
   "cell_type": "markdown",
   "metadata": {},
   "source": [
    "In this case, the image array has three dimensions, which represent the red, green, and blue (*RGB*) channels of the color image. Each channel is an array of 128 x 128 pixels.\n",
    "\n",
    "Let's look at the data type of these pixel values."
   ]
  },
  {
   "cell_type": "code",
   "execution_count": null,
   "metadata": {},
   "outputs": [],
   "source": [
    "img_array.dtype"
   ]
  },
  {
   "cell_type": "markdown",
   "metadata": {},
   "source": [
    "The pixel values are unsigned integer numbers between 0 and 255. These represent the pixel intensities for each of the RGB channels."
   ]
  },
  {
   "cell_type": "markdown",
   "metadata": {},
   "source": [
    "## Working with Multiple Image Files\n",
    "Now that we've explored some basic principles, let's generate a complete set of images to work with in this lab.\n",
    "\n",
    "We'll create 1,200 circles, squares, and triangles in appropriately named folders."
   ]
  },
  {
   "cell_type": "code",
   "execution_count": null,
   "metadata": {},
   "outputs": [],
   "source": [
    "# function to create a dataset of images\n",
    "def generate_image_data (classes, size, cases, img_dir):\n",
    "    import os, shutil\n",
    "    from PIL import Image\n",
    "    \n",
    "    # Check for existing folder and give option to replace it\n",
    "    if os.path.exists(img_dir):\n",
    "        replace_folder = input(\"Image folder already exists. Enter Y to replace it. \\n\")\n",
    "        if replace_folder == \"Y\":\n",
    "            print(\"Deleting old images...\")\n",
    "            shutil.rmtree(img_dir)\n",
    "        else:\n",
    "            return # Quit - no need to replace existing images\n",
    "        \n",
    "    # Create folder\n",
    "    os.makedirs(img_dir)\n",
    "    \n",
    "    # Generate the specified number of images\n",
    "    print(\"Generating new images...\")\n",
    "    i = 0\n",
    "    while(i < (cases - 1) / len(classes)):\n",
    "        if (i%25 == 0):\n",
    "            print(\"Progress:{:.0%}\".format((i*len(classes))/cases))\n",
    "        i += 1\n",
    "        for classname in classes:\n",
    "            img = create_image(size, classname)\n",
    "            # Save the image in an appropriately named folder based on the class (shape)\n",
    "            saveFolder = os.path.join(img_dir,classname)\n",
    "            if not os.path.exists(saveFolder):\n",
    "                os.makedirs(saveFolder)\n",
    "            imgFileName = os.path.join(saveFolder, classname + str(i) + '.jpg')\n",
    "            try:\n",
    "                img.save(imgFileName)\n",
    "            except:\n",
    "                try:\n",
    "                    # Retry (resource constraints can cause occassional disk access errors)\n",
    "                    img.save(imgFileName)\n",
    "                except:\n",
    "                    # We gave it a shot - time to move on with our lives\n",
    "                    print(\"Error saving image\", imgFileName)\n",
    "            \n",
    "# Our classes will be circles, squares, and triangles\n",
    "classnames = ['circle', 'square', 'triangle']\n",
    "\n",
    "# All images will be 128x128 pixels\n",
    "img_size = (128,128)\n",
    "\n",
    "# We'll store the images in a folder named 'shapes'\n",
    "folder_name = 'shapes'\n",
    "\n",
    "# Generate 1200 random images.\n",
    "generate_image_data(classnames, img_size, 1200, folder_name)\n",
    "\n",
    "print(\"Image files ready in '%s' folder!\" % folder_name)"
   ]
  },
  {
   "cell_type": "markdown",
   "metadata": {},
   "source": [
    "Now that we have our images, let's plot the first one in each folder:"
   ]
  },
  {
   "cell_type": "code",
   "execution_count": null,
   "metadata": {},
   "outputs": [],
   "source": [
    "import os\n",
    "\n",
    "# Set up a figure of an appropriate size\n",
    "fig = plt.figure(figsize=(12, 16))\n",
    "\n",
    "# loop through the subfolders\n",
    "dir_num = 0\n",
    "for root, folders, filenames in os.walk(folder_name):\n",
    "    for folder in folders:\n",
    "        # Load the first image file using the PIL library\n",
    "        file = os.listdir(os.path.join(root,folder))[0]\n",
    "        imgFile = os.path.join(root,folder, file)\n",
    "        img = Image.open(imgFile)\n",
    "        # Add the image to the figure (which will have 1 row,and enough columns to show a file from each folder)\n",
    "        a=fig.add_subplot(1, len(folders),dir_num + 1)\n",
    "        imgplot = plt.imshow(img)\n",
    "        # Add a caption with the folder name\n",
    "        a.set_title(folder)\n",
    "        dir_num = dir_num + 1\n"
   ]
  },
  {
   "cell_type": "markdown",
   "metadata": {},
   "source": [
    "Nw we have a set of images representing three different classes of shape. In the next exercise, we'll explore how to use these images to train a machine learning model that can classify an image based on the shape it contains."
   ]
  }
 ],
 "metadata": {
  "kernelspec": {
   "display_name": "Python 3.5",
   "language": "python",
   "name": "python3"
  },
  "language_info": {
   "codemirror_mode": {
    "name": "ipython",
    "version": 3
   },
   "file_extension": ".py",
   "mimetype": "text/x-python",
   "name": "python",
   "nbconvert_exporter": "python",
   "pygments_lexer": "ipython3",
   "version": "3.5.5"
  }
 },
 "nbformat": 4,
 "nbformat_minor": 2
}
